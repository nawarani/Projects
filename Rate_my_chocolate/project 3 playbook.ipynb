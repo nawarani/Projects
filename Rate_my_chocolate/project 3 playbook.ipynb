{
 "cells": [
  {
   "cell_type": "code",
   "execution_count": 1,
   "metadata": {},
   "outputs": [],
   "source": [
    "# imports\n",
    "import pandas as pd\n",
    "# !pip install catboost"
   ]
  },
  {
   "cell_type": "code",
   "execution_count": 2,
   "metadata": {},
   "outputs": [],
   "source": [
    "raw_df = pd.read_csv('flavors_of_cacao.csv', na_values=['\\xa0'])"
   ]
  },
  {
   "cell_type": "code",
   "execution_count": 3,
   "metadata": {},
   "outputs": [
    {
     "data": {
      "text/html": [
       "<div>\n",
       "<style scoped>\n",
       "    .dataframe tbody tr th:only-of-type {\n",
       "        vertical-align: middle;\n",
       "    }\n",
       "\n",
       "    .dataframe tbody tr th {\n",
       "        vertical-align: top;\n",
       "    }\n",
       "\n",
       "    .dataframe thead th {\n",
       "        text-align: right;\n",
       "    }\n",
       "</style>\n",
       "<table border=\"1\" class=\"dataframe\">\n",
       "  <thead>\n",
       "    <tr style=\"text-align: right;\">\n",
       "      <th></th>\n",
       "      <th>Company \n",
       "(Maker-if known)</th>\n",
       "      <th>Specific Bean Origin\n",
       "or Bar Name</th>\n",
       "      <th>REF</th>\n",
       "      <th>Review\n",
       "Date</th>\n",
       "      <th>Cocoa\n",
       "Percent</th>\n",
       "      <th>Company\n",
       "Location</th>\n",
       "      <th>Rating</th>\n",
       "      <th>Bean\n",
       "Type</th>\n",
       "      <th>Broad Bean\n",
       "Origin</th>\n",
       "    </tr>\n",
       "  </thead>\n",
       "  <tbody>\n",
       "    <tr>\n",
       "      <th>0</th>\n",
       "      <td>A. Morin</td>\n",
       "      <td>Agua Grande</td>\n",
       "      <td>1876</td>\n",
       "      <td>2016</td>\n",
       "      <td>63%</td>\n",
       "      <td>France</td>\n",
       "      <td>3.75</td>\n",
       "      <td>NaN</td>\n",
       "      <td>Sao Tome</td>\n",
       "    </tr>\n",
       "    <tr>\n",
       "      <th>1</th>\n",
       "      <td>A. Morin</td>\n",
       "      <td>Kpime</td>\n",
       "      <td>1676</td>\n",
       "      <td>2015</td>\n",
       "      <td>70%</td>\n",
       "      <td>France</td>\n",
       "      <td>2.75</td>\n",
       "      <td>NaN</td>\n",
       "      <td>Togo</td>\n",
       "    </tr>\n",
       "    <tr>\n",
       "      <th>2</th>\n",
       "      <td>A. Morin</td>\n",
       "      <td>Atsane</td>\n",
       "      <td>1676</td>\n",
       "      <td>2015</td>\n",
       "      <td>70%</td>\n",
       "      <td>France</td>\n",
       "      <td>3.00</td>\n",
       "      <td>NaN</td>\n",
       "      <td>Togo</td>\n",
       "    </tr>\n",
       "    <tr>\n",
       "      <th>3</th>\n",
       "      <td>A. Morin</td>\n",
       "      <td>Akata</td>\n",
       "      <td>1680</td>\n",
       "      <td>2015</td>\n",
       "      <td>70%</td>\n",
       "      <td>France</td>\n",
       "      <td>3.50</td>\n",
       "      <td>NaN</td>\n",
       "      <td>Togo</td>\n",
       "    </tr>\n",
       "    <tr>\n",
       "      <th>4</th>\n",
       "      <td>A. Morin</td>\n",
       "      <td>Quilla</td>\n",
       "      <td>1704</td>\n",
       "      <td>2015</td>\n",
       "      <td>70%</td>\n",
       "      <td>France</td>\n",
       "      <td>3.50</td>\n",
       "      <td>NaN</td>\n",
       "      <td>Peru</td>\n",
       "    </tr>\n",
       "  </tbody>\n",
       "</table>\n",
       "</div>"
      ],
      "text/plain": [
       "  Company \\n(Maker-if known) Specific Bean Origin\\nor Bar Name   REF  \\\n",
       "0                   A. Morin                       Agua Grande  1876   \n",
       "1                   A. Morin                             Kpime  1676   \n",
       "2                   A. Morin                            Atsane  1676   \n",
       "3                   A. Morin                             Akata  1680   \n",
       "4                   A. Morin                            Quilla  1704   \n",
       "\n",
       "   Review\\nDate Cocoa\\nPercent Company\\nLocation  Rating Bean\\nType  \\\n",
       "0          2016            63%            France    3.75        NaN   \n",
       "1          2015            70%            France    2.75        NaN   \n",
       "2          2015            70%            France    3.00        NaN   \n",
       "3          2015            70%            France    3.50        NaN   \n",
       "4          2015            70%            France    3.50        NaN   \n",
       "\n",
       "  Broad Bean\\nOrigin  \n",
       "0           Sao Tome  \n",
       "1               Togo  \n",
       "2               Togo  \n",
       "3               Togo  \n",
       "4               Peru  "
      ]
     },
     "execution_count": 3,
     "metadata": {},
     "output_type": "execute_result"
    }
   ],
   "source": [
    "# raw_df.info()\n",
    "# raw_df.describe()\n",
    "raw_df.head()"
   ]
  },
  {
   "cell_type": "code",
   "execution_count": null,
   "metadata": {},
   "outputs": [],
   "source": []
  },
  {
   "cell_type": "code",
   "execution_count": 4,
   "metadata": {},
   "outputs": [
    {
     "data": {
      "text/plain": [
       "Company \\n(Maker-if known)             0\n",
       "Specific Bean Origin\\nor Bar Name      0\n",
       "REF                                    0\n",
       "Review\\nDate                           0\n",
       "Cocoa\\nPercent                         0\n",
       "Company\\nLocation                      0\n",
       "Rating                                 0\n",
       "Bean\\nType                           888\n",
       "Broad Bean\\nOrigin                    74\n",
       "dtype: int64"
      ]
     },
     "execution_count": 4,
     "metadata": {},
     "output_type": "execute_result"
    }
   ],
   "source": [
    "raw_df.isnull().sum()"
   ]
  },
  {
   "cell_type": "code",
   "execution_count": 5,
   "metadata": {},
   "outputs": [],
   "source": [
    "df = raw_df.dropna(subset= ['Broad Bean\\nOrigin'])"
   ]
  },
  {
   "cell_type": "code",
   "execution_count": 6,
   "metadata": {},
   "outputs": [
    {
     "data": {
      "text/plain": [
       "Company \\n(Maker-if known)             0\n",
       "Specific Bean Origin\\nor Bar Name      0\n",
       "REF                                    0\n",
       "Review\\nDate                           0\n",
       "Cocoa\\nPercent                         0\n",
       "Company\\nLocation                      0\n",
       "Rating                                 0\n",
       "Bean\\nType                           837\n",
       "Broad Bean\\nOrigin                     0\n",
       "dtype: int64"
      ]
     },
     "execution_count": 6,
     "metadata": {},
     "output_type": "execute_result"
    }
   ],
   "source": [
    "df.isnull().sum()"
   ]
  },
  {
   "cell_type": "code",
   "execution_count": 7,
   "metadata": {},
   "outputs": [
    {
     "data": {
      "text/plain": [
       "Index(['Company_(Maker-if known)', 'Specific Bean Origin_or Bar Name', 'REF',\n",
       "       'Review_Date', 'Cocoa_Percent', 'Company_Location', 'Rating',\n",
       "       'Bean_Type', 'Broad Bean_Origin'],\n",
       "      dtype='object')"
      ]
     },
     "execution_count": 7,
     "metadata": {},
     "output_type": "execute_result"
    }
   ],
   "source": [
    "df.columns = [column.replace('\\n','_') for column in df.columns]\n",
    "df.columns = [column.replace('\\xa0','') for column in df.columns]\n",
    "df.columns"
   ]
  },
  {
   "cell_type": "code",
   "execution_count": 68,
   "metadata": {},
   "outputs": [
    {
     "data": {
      "text/plain": [
       "array([76,  9, 65, 87])"
      ]
     },
     "execution_count": 68,
     "metadata": {},
     "output_type": "execute_result"
    }
   ],
   "source": [
    "A = ['76%', '8.9%', '65%', '87.3%']\n",
    "np.array([int(round(float(a.strip('%')),0)) for a in A])"
   ]
  },
  {
   "cell_type": "code",
   "execution_count": 8,
   "metadata": {},
   "outputs": [],
   "source": [
    "y = df['Rating']\n",
    "X = df.drop(['Rating', 'Bean_Type'], axis = 1)"
   ]
  },
  {
   "cell_type": "code",
   "execution_count": 9,
   "metadata": {},
   "outputs": [],
   "source": [
    "from sklearn.model_selection import train_test_split\n",
    "X_train, X_test, y_train, y_test = train_test_split(X, y, test_size=0.4, random_state=42)\n",
    "X_eval, X_test, y_eval, y_test = train_test_split(X_test, y_test, test_size=0.5, random_state=42)"
   ]
  },
  {
   "cell_type": "code",
   "execution_count": 10,
   "metadata": {},
   "outputs": [
    {
     "data": {
      "text/html": [
       "<div>\n",
       "<style scoped>\n",
       "    .dataframe tbody tr th:only-of-type {\n",
       "        vertical-align: middle;\n",
       "    }\n",
       "\n",
       "    .dataframe tbody tr th {\n",
       "        vertical-align: top;\n",
       "    }\n",
       "\n",
       "    .dataframe thead th {\n",
       "        text-align: right;\n",
       "    }\n",
       "</style>\n",
       "<table border=\"1\" class=\"dataframe\">\n",
       "  <thead>\n",
       "    <tr style=\"text-align: right;\">\n",
       "      <th></th>\n",
       "      <th>Company_(Maker-if known)</th>\n",
       "      <th>Specific Bean Origin_or Bar Name</th>\n",
       "      <th>REF</th>\n",
       "      <th>Review_Date</th>\n",
       "      <th>Cocoa_Percent</th>\n",
       "      <th>Company_Location</th>\n",
       "      <th>Broad Bean_Origin</th>\n",
       "    </tr>\n",
       "  </thead>\n",
       "  <tbody>\n",
       "    <tr>\n",
       "      <th>41</th>\n",
       "      <td>Alexandre</td>\n",
       "      <td>La Dalia, Matagalpa</td>\n",
       "      <td>1944</td>\n",
       "      <td>2017</td>\n",
       "      <td>70%</td>\n",
       "      <td>Netherlands</td>\n",
       "      <td>Nicaragua</td>\n",
       "    </tr>\n",
       "    <tr>\n",
       "      <th>1728</th>\n",
       "      <td>Violet Sky</td>\n",
       "      <td>Cahabon</td>\n",
       "      <td>1502</td>\n",
       "      <td>2015</td>\n",
       "      <td>77%</td>\n",
       "      <td>U.S.A.</td>\n",
       "      <td>Guatemala</td>\n",
       "    </tr>\n",
       "    <tr>\n",
       "      <th>135</th>\n",
       "      <td>Artisan du Chocolat</td>\n",
       "      <td>Dominican Republic</td>\n",
       "      <td>363</td>\n",
       "      <td>2009</td>\n",
       "      <td>72%</td>\n",
       "      <td>U.K.</td>\n",
       "      <td>Dominican Republic</td>\n",
       "    </tr>\n",
       "    <tr>\n",
       "      <th>799</th>\n",
       "      <td>Heirloom Cacao Preservation (Zokoko)</td>\n",
       "      <td>Wild Beni, Lower Rio Beni, Tranquilidad, 2015</td>\n",
       "      <td>1744</td>\n",
       "      <td>2016</td>\n",
       "      <td>72%</td>\n",
       "      <td>U.S.A.</td>\n",
       "      <td>Bolivia</td>\n",
       "    </tr>\n",
       "    <tr>\n",
       "      <th>1611</th>\n",
       "      <td>Tabal</td>\n",
       "      <td>Chiapas, Lacandon Jungle</td>\n",
       "      <td>1105</td>\n",
       "      <td>2013</td>\n",
       "      <td>70%</td>\n",
       "      <td>U.S.A.</td>\n",
       "      <td>Mexico</td>\n",
       "    </tr>\n",
       "  </tbody>\n",
       "</table>\n",
       "</div>"
      ],
      "text/plain": [
       "                  Company_(Maker-if known)  \\\n",
       "41                               Alexandre   \n",
       "1728                            Violet Sky   \n",
       "135                    Artisan du Chocolat   \n",
       "799   Heirloom Cacao Preservation (Zokoko)   \n",
       "1611                                 Tabal   \n",
       "\n",
       "                   Specific Bean Origin_or Bar Name   REF  Review_Date  \\\n",
       "41                              La Dalia, Matagalpa  1944         2017   \n",
       "1728                                        Cahabon  1502         2015   \n",
       "135                              Dominican Republic   363         2009   \n",
       "799   Wild Beni, Lower Rio Beni, Tranquilidad, 2015  1744         2016   \n",
       "1611                       Chiapas, Lacandon Jungle  1105         2013   \n",
       "\n",
       "     Cocoa_Percent Company_Location   Broad Bean_Origin  \n",
       "41             70%      Netherlands           Nicaragua  \n",
       "1728           77%           U.S.A.           Guatemala  \n",
       "135            72%             U.K.  Dominican Republic  \n",
       "799            72%           U.S.A.             Bolivia  \n",
       "1611           70%           U.S.A.              Mexico  "
      ]
     },
     "execution_count": 10,
     "metadata": {},
     "output_type": "execute_result"
    }
   ],
   "source": [
    "X_train.head()"
   ]
  },
  {
   "cell_type": "code",
   "execution_count": 11,
   "metadata": {},
   "outputs": [
    {
     "name": "stderr",
     "output_type": "stream",
     "text": [
      "/home/anika/anaconda3/lib/python3.7/site-packages/ipykernel_launcher.py:1: SettingWithCopyWarning: \n",
      "A value is trying to be set on a copy of a slice from a DataFrame.\n",
      "Try using .loc[row_indexer,col_indexer] = value instead\n",
      "\n",
      "See the caveats in the documentation: http://pandas.pydata.org/pandas-docs/stable/indexing.html#indexing-view-versus-copy\n",
      "  \"\"\"Entry point for launching an IPython kernel.\n"
     ]
    }
   ],
   "source": [
    "X_train['Cocoa_Percent'] = X_train['Cocoa_Percent'].apply(lambda x: float(x.strip('%')))\n",
    "X_test['Cocoa_Percent'] = X_test['Cocoa_Percent'].apply(lambda x: float(x.strip('%')))"
   ]
  },
  {
   "cell_type": "code",
   "execution_count": 12,
   "metadata": {},
   "outputs": [
    {
     "data": {
      "text/plain": [
       "[342, 642, 418, 12, 37, 55, 77]"
      ]
     },
     "execution_count": 12,
     "metadata": {},
     "output_type": "execute_result"
    }
   ],
   "source": [
    "[len(X_train[column].unique()) for column in X_train.columns]"
   ]
  },
  {
   "cell_type": "code",
   "execution_count": 13,
   "metadata": {},
   "outputs": [],
   "source": [
    "from sklearn_pandas import DataFrameMapper\n",
    "from sklearn.preprocessing import LabelBinarizer"
   ]
  },
  {
   "cell_type": "code",
   "execution_count": 14,
   "metadata": {},
   "outputs": [],
   "source": [
    "mapper = DataFrameMapper([\n",
    "    ('Cocoa_Percent', None),\n",
    "    ('Company_Location', LabelBinarizer()),\n",
    "    ('Broad Bean_Origin', LabelBinarizer())\n",
    "], df_out = True)"
   ]
  },
  {
   "cell_type": "code",
   "execution_count": 15,
   "metadata": {},
   "outputs": [],
   "source": [
    "Z_train = mapper.fit_transform(X_train)\n",
    "Z_test = mapper.transform(X_test)"
   ]
  },
  {
   "cell_type": "markdown",
   "metadata": {},
   "source": [
    "## Naive model"
   ]
  },
  {
   "cell_type": "markdown",
   "metadata": {},
   "source": [
    "rating goes up with cocoa percentage"
   ]
  },
  {
   "cell_type": "code",
   "execution_count": 16,
   "metadata": {},
   "outputs": [
    {
     "data": {
      "text/plain": [
       "0.00557433371423699"
      ]
     },
     "execution_count": 16,
     "metadata": {},
     "output_type": "execute_result"
    }
   ],
   "source": [
    "from sklearn.linear_model import LinearRegression\n",
    "linreg = LinearRegression()\n",
    "linreg.fit(X_train[['Cocoa_Percent']], y_train)\n",
    "\n",
    "\n",
    "# X_test['Cocoa_Percent'] = X_test['Cocoa_Percent'].apply(lambda x: float(x.strip('%')))\n",
    "linreg.score(X_test[['Cocoa_Percent']], y_test)"
   ]
  },
  {
   "cell_type": "code",
   "execution_count": 17,
   "metadata": {},
   "outputs": [],
   "source": [
    "import matplotlib.pyplot as plt\n",
    "plt.scatter(X_test[['Cocoa_Percent']], y_test);"
   ]
  },
  {
   "cell_type": "markdown",
   "metadata": {},
   "source": [
    "## Feature Selection"
   ]
  },
  {
   "cell_type": "code",
   "execution_count": 18,
   "metadata": {},
   "outputs": [],
   "source": [
    "from sklearn.feature_selection import RFE\n",
    "from sklearn.ensemble import RandomForestRegressor\n",
    "\n",
    "\n",
    "select = RFE(RandomForestRegressor(n_estimators=10, random_state=42), n_features_to_select=10)\n",
    "select.fit(Z_train, y_train)\n",
    "Z_train_selected = select.transform(Z_train)"
   ]
  },
  {
   "cell_type": "code",
   "execution_count": 19,
   "metadata": {
    "scrolled": false
   },
   "outputs": [
    {
     "data": {
      "text/html": [
       "<div>\n",
       "<style scoped>\n",
       "    .dataframe tbody tr th:only-of-type {\n",
       "        vertical-align: middle;\n",
       "    }\n",
       "\n",
       "    .dataframe tbody tr th {\n",
       "        vertical-align: top;\n",
       "    }\n",
       "\n",
       "    .dataframe thead th {\n",
       "        text-align: right;\n",
       "    }\n",
       "</style>\n",
       "<table border=\"1\" class=\"dataframe\">\n",
       "  <thead>\n",
       "    <tr style=\"text-align: right;\">\n",
       "      <th></th>\n",
       "      <th>Cocoa_Percent</th>\n",
       "      <th>Company_Location_Amsterdam</th>\n",
       "      <th>Company_Location_Argentina</th>\n",
       "      <th>Company_Location_Australia</th>\n",
       "      <th>Company_Location_Austria</th>\n",
       "      <th>Company_Location_Belgium</th>\n",
       "      <th>Company_Location_Bolivia</th>\n",
       "      <th>Company_Location_Brazil</th>\n",
       "      <th>Company_Location_Canada</th>\n",
       "      <th>Company_Location_Chile</th>\n",
       "      <th>...</th>\n",
       "      <th>Broad Bean_Origin_Uganda</th>\n",
       "      <th>Broad Bean_Origin_Vanuatu</th>\n",
       "      <th>Broad Bean_Origin_Ven., Indonesia, Ecuad.</th>\n",
       "      <th>Broad Bean_Origin_Ven., Trinidad, Mad.</th>\n",
       "      <th>Broad Bean_Origin_Venez,Africa,Brasil,Peru,Mex</th>\n",
       "      <th>Broad Bean_Origin_Venezuela</th>\n",
       "      <th>Broad Bean_Origin_Venezuela, Carribean</th>\n",
       "      <th>Broad Bean_Origin_Venezuela, Dom. Rep.</th>\n",
       "      <th>Broad Bean_Origin_Vietnam</th>\n",
       "      <th>Broad Bean_Origin_West Africa</th>\n",
       "    </tr>\n",
       "  </thead>\n",
       "  <tbody>\n",
       "    <tr>\n",
       "      <th>41</th>\n",
       "      <td>70.0</td>\n",
       "      <td>0</td>\n",
       "      <td>0</td>\n",
       "      <td>0</td>\n",
       "      <td>0</td>\n",
       "      <td>0</td>\n",
       "      <td>0</td>\n",
       "      <td>0</td>\n",
       "      <td>0</td>\n",
       "      <td>0</td>\n",
       "      <td>...</td>\n",
       "      <td>0</td>\n",
       "      <td>0</td>\n",
       "      <td>0</td>\n",
       "      <td>0</td>\n",
       "      <td>0</td>\n",
       "      <td>0</td>\n",
       "      <td>0</td>\n",
       "      <td>0</td>\n",
       "      <td>0</td>\n",
       "      <td>0</td>\n",
       "    </tr>\n",
       "    <tr>\n",
       "      <th>1728</th>\n",
       "      <td>77.0</td>\n",
       "      <td>0</td>\n",
       "      <td>0</td>\n",
       "      <td>0</td>\n",
       "      <td>0</td>\n",
       "      <td>0</td>\n",
       "      <td>0</td>\n",
       "      <td>0</td>\n",
       "      <td>0</td>\n",
       "      <td>0</td>\n",
       "      <td>...</td>\n",
       "      <td>0</td>\n",
       "      <td>0</td>\n",
       "      <td>0</td>\n",
       "      <td>0</td>\n",
       "      <td>0</td>\n",
       "      <td>0</td>\n",
       "      <td>0</td>\n",
       "      <td>0</td>\n",
       "      <td>0</td>\n",
       "      <td>0</td>\n",
       "    </tr>\n",
       "    <tr>\n",
       "      <th>135</th>\n",
       "      <td>72.0</td>\n",
       "      <td>0</td>\n",
       "      <td>0</td>\n",
       "      <td>0</td>\n",
       "      <td>0</td>\n",
       "      <td>0</td>\n",
       "      <td>0</td>\n",
       "      <td>0</td>\n",
       "      <td>0</td>\n",
       "      <td>0</td>\n",
       "      <td>...</td>\n",
       "      <td>0</td>\n",
       "      <td>0</td>\n",
       "      <td>0</td>\n",
       "      <td>0</td>\n",
       "      <td>0</td>\n",
       "      <td>0</td>\n",
       "      <td>0</td>\n",
       "      <td>0</td>\n",
       "      <td>0</td>\n",
       "      <td>0</td>\n",
       "    </tr>\n",
       "    <tr>\n",
       "      <th>799</th>\n",
       "      <td>72.0</td>\n",
       "      <td>0</td>\n",
       "      <td>0</td>\n",
       "      <td>0</td>\n",
       "      <td>0</td>\n",
       "      <td>0</td>\n",
       "      <td>0</td>\n",
       "      <td>0</td>\n",
       "      <td>0</td>\n",
       "      <td>0</td>\n",
       "      <td>...</td>\n",
       "      <td>0</td>\n",
       "      <td>0</td>\n",
       "      <td>0</td>\n",
       "      <td>0</td>\n",
       "      <td>0</td>\n",
       "      <td>0</td>\n",
       "      <td>0</td>\n",
       "      <td>0</td>\n",
       "      <td>0</td>\n",
       "      <td>0</td>\n",
       "    </tr>\n",
       "    <tr>\n",
       "      <th>1611</th>\n",
       "      <td>70.0</td>\n",
       "      <td>0</td>\n",
       "      <td>0</td>\n",
       "      <td>0</td>\n",
       "      <td>0</td>\n",
       "      <td>0</td>\n",
       "      <td>0</td>\n",
       "      <td>0</td>\n",
       "      <td>0</td>\n",
       "      <td>0</td>\n",
       "      <td>...</td>\n",
       "      <td>0</td>\n",
       "      <td>0</td>\n",
       "      <td>0</td>\n",
       "      <td>0</td>\n",
       "      <td>0</td>\n",
       "      <td>0</td>\n",
       "      <td>0</td>\n",
       "      <td>0</td>\n",
       "      <td>0</td>\n",
       "      <td>0</td>\n",
       "    </tr>\n",
       "  </tbody>\n",
       "</table>\n",
       "<p>5 rows × 133 columns</p>\n",
       "</div>"
      ],
      "text/plain": [
       "      Cocoa_Percent  Company_Location_Amsterdam  Company_Location_Argentina  \\\n",
       "41             70.0                           0                           0   \n",
       "1728           77.0                           0                           0   \n",
       "135            72.0                           0                           0   \n",
       "799            72.0                           0                           0   \n",
       "1611           70.0                           0                           0   \n",
       "\n",
       "      Company_Location_Australia  Company_Location_Austria  \\\n",
       "41                             0                         0   \n",
       "1728                           0                         0   \n",
       "135                            0                         0   \n",
       "799                            0                         0   \n",
       "1611                           0                         0   \n",
       "\n",
       "      Company_Location_Belgium  Company_Location_Bolivia  \\\n",
       "41                           0                         0   \n",
       "1728                         0                         0   \n",
       "135                          0                         0   \n",
       "799                          0                         0   \n",
       "1611                         0                         0   \n",
       "\n",
       "      Company_Location_Brazil  Company_Location_Canada  \\\n",
       "41                          0                        0   \n",
       "1728                        0                        0   \n",
       "135                         0                        0   \n",
       "799                         0                        0   \n",
       "1611                        0                        0   \n",
       "\n",
       "      Company_Location_Chile  ...  Broad Bean_Origin_Uganda  \\\n",
       "41                         0  ...                         0   \n",
       "1728                       0  ...                         0   \n",
       "135                        0  ...                         0   \n",
       "799                        0  ...                         0   \n",
       "1611                       0  ...                         0   \n",
       "\n",
       "      Broad Bean_Origin_Vanuatu  Broad Bean_Origin_Ven., Indonesia, Ecuad.  \\\n",
       "41                            0                                          0   \n",
       "1728                          0                                          0   \n",
       "135                           0                                          0   \n",
       "799                           0                                          0   \n",
       "1611                          0                                          0   \n",
       "\n",
       "      Broad Bean_Origin_Ven., Trinidad, Mad.  \\\n",
       "41                                         0   \n",
       "1728                                       0   \n",
       "135                                        0   \n",
       "799                                        0   \n",
       "1611                                       0   \n",
       "\n",
       "      Broad Bean_Origin_Venez,Africa,Brasil,Peru,Mex  \\\n",
       "41                                                 0   \n",
       "1728                                               0   \n",
       "135                                                0   \n",
       "799                                                0   \n",
       "1611                                               0   \n",
       "\n",
       "      Broad Bean_Origin_Venezuela  Broad Bean_Origin_Venezuela, Carribean  \\\n",
       "41                              0                                       0   \n",
       "1728                            0                                       0   \n",
       "135                             0                                       0   \n",
       "799                             0                                       0   \n",
       "1611                            0                                       0   \n",
       "\n",
       "      Broad Bean_Origin_Venezuela, Dom. Rep.  Broad Bean_Origin_Vietnam  \\\n",
       "41                                         0                          0   \n",
       "1728                                       0                          0   \n",
       "135                                        0                          0   \n",
       "799                                        0                          0   \n",
       "1611                                       0                          0   \n",
       "\n",
       "      Broad Bean_Origin_West Africa  \n",
       "41                                0  \n",
       "1728                              0  \n",
       "135                               0  \n",
       "799                               0  \n",
       "1611                              0  \n",
       "\n",
       "[5 rows x 133 columns]"
      ]
     },
     "execution_count": 19,
     "metadata": {},
     "output_type": "execute_result"
    }
   ],
   "source": [
    "Z_train.head()"
   ]
  },
  {
   "cell_type": "code",
   "execution_count": 20,
   "metadata": {},
   "outputs": [],
   "source": [
    "select_df = pd.DataFrame(zip(Z_train.columns, select.support_), columns = ['feature', 'bool'])"
   ]
  },
  {
   "cell_type": "code",
   "execution_count": 21,
   "metadata": {},
   "outputs": [],
   "source": [
    "select_df = select_df[select_df['bool']]"
   ]
  },
  {
   "cell_type": "code",
   "execution_count": 22,
   "metadata": {},
   "outputs": [],
   "source": [
    "Z_train_selected = pd.DataFrame(Z_train_selected)\n",
    "Z_train_selected.columns = select_df['feature'].values"
   ]
  },
  {
   "cell_type": "code",
   "execution_count": 23,
   "metadata": {},
   "outputs": [],
   "source": [
    "Z_train_selected = Z_train_selected.astype(int)"
   ]
  },
  {
   "cell_type": "code",
   "execution_count": 24,
   "metadata": {},
   "outputs": [
    {
     "data": {
      "text/plain": [
       "0.01630283302280977"
      ]
     },
     "execution_count": 24,
     "metadata": {},
     "output_type": "execute_result"
    }
   ],
   "source": [
    "linreg = LinearRegression()\n",
    "linreg.fit(Z_train_selected, y_train)\n",
    "\n",
    "Z_test_selected = Z_test[select_df['feature'].values]\n",
    "linreg.score(Z_test_selected, y_test)"
   ]
  },
  {
   "cell_type": "code",
   "execution_count": 25,
   "metadata": {},
   "outputs": [],
   "source": [
    "from sklearn.linear_model import Lasso\n",
    "lasso = Lasso(alpha = 0.01)"
   ]
  },
  {
   "cell_type": "code",
   "execution_count": 26,
   "metadata": {},
   "outputs": [
    {
     "data": {
      "text/plain": [
       "Lasso(alpha=0.01, copy_X=True, fit_intercept=True, max_iter=1000,\n",
       "      normalize=False, positive=False, precompute=False, random_state=None,\n",
       "      selection='cyclic', tol=0.0001, warm_start=False)"
      ]
     },
     "execution_count": 26,
     "metadata": {},
     "output_type": "execute_result"
    }
   ],
   "source": [
    "lasso.fit(Z_train_selected, y_train)"
   ]
  },
  {
   "cell_type": "code",
   "execution_count": 27,
   "metadata": {},
   "outputs": [
    {
     "data": {
      "text/plain": [
       "0.01099377595688722"
      ]
     },
     "execution_count": 27,
     "metadata": {},
     "output_type": "execute_result"
    }
   ],
   "source": [
    "lasso.score(Z_test_selected, y_test)"
   ]
  },
  {
   "cell_type": "code",
   "execution_count": 28,
   "metadata": {},
   "outputs": [
    {
     "data": {
      "text/plain": [
       "array([-0.01444035, -0.        ,  0.        ,  0.        , -0.        ,\n",
       "       -0.02995429, -0.        ,  0.        , -0.        ,  0.        ])"
      ]
     },
     "execution_count": 28,
     "metadata": {},
     "output_type": "execute_result"
    }
   ],
   "source": [
    "lasso.coef_"
   ]
  },
  {
   "cell_type": "code",
   "execution_count": 29,
   "metadata": {},
   "outputs": [],
   "source": [
    "Z_train_selectedd = Z_train_selected[['Cocoa_Percent', 'Company_Location_U.S.A.']]\n",
    "Z_test_selectedd = Z_test_selected[['Cocoa_Percent', 'Company_Location_U.S.A.']]"
   ]
  },
  {
   "cell_type": "markdown",
   "metadata": {},
   "source": [
    "## CAtboost"
   ]
  },
  {
   "cell_type": "code",
   "execution_count": 30,
   "metadata": {},
   "outputs": [],
   "source": [
    "# import os\n",
    "import numpy as np\n",
    "np.set_printoptions(precision=4)\n",
    "\n",
    "# import catboost as cb"
   ]
  },
  {
   "cell_type": "code",
   "execution_count": 31,
   "metadata": {},
   "outputs": [
    {
     "name": "stdout",
     "output_type": "stream",
     "text": [
      "<class 'pandas.core.frame.DataFrame'>\n",
      "RangeIndex: 1032 entries, 0 to 1031\n",
      "Data columns (total 10 columns):\n",
      "Cocoa_Percent                   1032 non-null int64\n",
      "Company_Location_Ecuador        1032 non-null int64\n",
      "Company_Location_France         1032 non-null int64\n",
      "Company_Location_Italy          1032 non-null int64\n",
      "Company_Location_U.K.           1032 non-null int64\n",
      "Company_Location_U.S.A.         1032 non-null int64\n",
      "Broad Bean_Origin_Ecuador       1032 non-null int64\n",
      "Broad Bean_Origin_Madagascar    1032 non-null int64\n",
      "Broad Bean_Origin_Peru          1032 non-null int64\n",
      "Broad Bean_Origin_Venezuela     1032 non-null int64\n",
      "dtypes: int64(10)\n",
      "memory usage: 80.7 KB\n",
      "<class 'pandas.core.frame.DataFrame'>\n",
      "Int64Index: 345 entries, 969 to 362\n",
      "Data columns (total 10 columns):\n",
      "Cocoa_Percent                   345 non-null float64\n",
      "Company_Location_Ecuador        345 non-null int64\n",
      "Company_Location_France         345 non-null int64\n",
      "Company_Location_Italy          345 non-null int64\n",
      "Company_Location_U.K.           345 non-null int64\n",
      "Company_Location_U.S.A.         345 non-null int64\n",
      "Broad Bean_Origin_Ecuador       345 non-null int64\n",
      "Broad Bean_Origin_Madagascar    345 non-null int64\n",
      "Broad Bean_Origin_Peru          345 non-null int64\n",
      "Broad Bean_Origin_Venezuela     345 non-null int64\n",
      "dtypes: float64(1), int64(9)\n",
      "memory usage: 29.6 KB\n"
     ]
    }
   ],
   "source": [
    "Z_train_selected.info()\n",
    "Z_test_selected.info()"
   ]
  },
  {
   "cell_type": "code",
   "execution_count": 32,
   "metadata": {},
   "outputs": [
    {
     "name": "stdout",
     "output_type": "stream",
     "text": [
      "Cocoa_Percent\n"
     ]
    },
    {
     "data": {
      "text/plain": [
       "[None]"
      ]
     },
     "execution_count": 32,
     "metadata": {},
     "output_type": "execute_result"
    }
   ],
   "source": [
    "[print(x) for x in Z_train_selected[['Cocoa_Percent']]]"
   ]
  },
  {
   "cell_type": "code",
   "execution_count": 33,
   "metadata": {},
   "outputs": [
    {
     "name": "stderr",
     "output_type": "stream",
     "text": [
      "/home/anika/anaconda3/lib/python3.7/site-packages/ipykernel_launcher.py:4: SettingWithCopyWarning: \n",
      "A value is trying to be set on a copy of a slice from a DataFrame.\n",
      "Try using .loc[row_indexer,col_indexer] = value instead\n",
      "\n",
      "See the caveats in the documentation: http://pandas.pydata.org/pandas-docs/stable/indexing.html#indexing-view-versus-copy\n",
      "  after removing the cwd from sys.path.\n"
     ]
    }
   ],
   "source": [
    "# Z_train_selected['Cocoa_percent'] = [print(x) for x in Z_train_selected['Cocoa_Percent']]\n",
    "# Z_train_selected['Cocoa_Percent'] = Z_train_selected['Cocoa_Percent'].astype(int)\n",
    "# Z_test_selected['Cocoa_percent'] = [round(x) for x in Z_test_selected['Cocoa_Percent']]\n",
    "Z_test_selectedd['Cocoa_Percent'] = Z_test_selectedd['Cocoa_Percent'].astype(int)"
   ]
  },
  {
   "cell_type": "code",
   "execution_count": 34,
   "metadata": {},
   "outputs": [
    {
     "name": "stdout",
     "output_type": "stream",
     "text": [
      "<class 'pandas.core.frame.DataFrame'>\n",
      "Int64Index: 345 entries, 969 to 362\n",
      "Data columns (total 10 columns):\n",
      "Cocoa_Percent                   345 non-null float64\n",
      "Company_Location_Ecuador        345 non-null int64\n",
      "Company_Location_France         345 non-null int64\n",
      "Company_Location_Italy          345 non-null int64\n",
      "Company_Location_U.K.           345 non-null int64\n",
      "Company_Location_U.S.A.         345 non-null int64\n",
      "Broad Bean_Origin_Ecuador       345 non-null int64\n",
      "Broad Bean_Origin_Madagascar    345 non-null int64\n",
      "Broad Bean_Origin_Peru          345 non-null int64\n",
      "Broad Bean_Origin_Venezuela     345 non-null int64\n",
      "dtypes: float64(1), int64(9)\n",
      "memory usage: 29.6 KB\n"
     ]
    }
   ],
   "source": [
    "Z_test_selected.info()"
   ]
  },
  {
   "cell_type": "code",
   "execution_count": 35,
   "metadata": {},
   "outputs": [],
   "source": [
    "cat_features = list(range(0, Z_train_selectedd.shape[1]))"
   ]
  },
  {
   "cell_type": "code",
   "execution_count": 36,
   "metadata": {},
   "outputs": [
    {
     "data": {
      "text/plain": [
       "<catboost.core.CatBoostRegressor at 0x7fcac8da19b0>"
      ]
     },
     "execution_count": 36,
     "metadata": {},
     "output_type": "execute_result"
    }
   ],
   "source": [
    "from catboost import CatBoostRegressor, Pool\n",
    "\n",
    "model = CatBoostRegressor(\n",
    "    iterations=5,\n",
    "    learning_rate=0.1\n",
    "    #loss_function='Logloss',\n",
    "    #loss_function='CrossEntropy'\n",
    ")\n",
    "train_pool = Pool(data=Z_train_selectedd, \n",
    "                  label=y_train, \n",
    "                  cat_features=cat_features)\n",
    "\n",
    "validation_pool = Pool(data=Z_test_selectedd, \n",
    "                       label=y_test, \n",
    "                       cat_features=cat_features)\n",
    "model.fit(\n",
    "    train_pool,\n",
    "    eval_set=validation_pool,\n",
    "    verbose=False\n",
    ")"
   ]
  },
  {
   "cell_type": "code",
   "execution_count": 37,
   "metadata": {},
   "outputs": [
    {
     "data": {
      "text/plain": [
       "0.02423940787974277"
      ]
     },
     "execution_count": 37,
     "metadata": {},
     "output_type": "execute_result"
    }
   ],
   "source": [
    "model.score(Z_test_selectedd, y_test)"
   ]
  },
  {
   "cell_type": "markdown",
   "metadata": {},
   "source": [
    "## Gridsearch"
   ]
  },
  {
   "cell_type": "code",
   "execution_count": 38,
   "metadata": {},
   "outputs": [],
   "source": [
    "from sklearn.model_selection import GridSearchCV, RandomizedSearchCV\n",
    "from sklearn.metrics import recall_score, make_scorer, f1_score"
   ]
  },
  {
   "cell_type": "code",
   "execution_count": 39,
   "metadata": {},
   "outputs": [
    {
     "name": "stdout",
     "output_type": "stream",
     "text": [
      "Fitting 5 folds for each of 9 candidates, totalling 45 fits\n"
     ]
    },
    {
     "name": "stderr",
     "output_type": "stream",
     "text": [
      "[Parallel(n_jobs=-1)]: Using backend LokyBackend with 8 concurrent workers.\n"
     ]
    },
    {
     "name": "stdout",
     "output_type": "stream",
     "text": [
      "0:\tlearn: 0.4568883\ttotal: 1.23ms\tremaining: 60ms\n",
      "1:\tlearn: 0.4538670\ttotal: 2.27ms\tremaining: 54.4ms\n",
      "2:\tlearn: 0.4514697\ttotal: 3.59ms\tremaining: 56.3ms\n",
      "3:\tlearn: 0.4502982\ttotal: 4.32ms\tremaining: 49.7ms\n",
      "4:\tlearn: 0.4486119\ttotal: 4.77ms\tremaining: 42.9ms\n",
      "5:\tlearn: 0.4475272\ttotal: 5.16ms\tremaining: 37.9ms\n",
      "6:\tlearn: 0.4459566\ttotal: 5.67ms\tremaining: 34.8ms\n",
      "7:\tlearn: 0.4449371\ttotal: 6.09ms\tremaining: 32ms\n",
      "8:\tlearn: 0.4444661\ttotal: 6.43ms\tremaining: 29.3ms\n",
      "9:\tlearn: 0.4434322\ttotal: 7.25ms\tremaining: 29ms\n",
      "10:\tlearn: 0.4429935\ttotal: 8.12ms\tremaining: 28.8ms\n",
      "11:\tlearn: 0.4420970\ttotal: 9.97ms\tremaining: 31.6ms\n",
      "12:\tlearn: 0.4412331\ttotal: 11.5ms\tremaining: 32.6ms\n",
      "13:\tlearn: 0.4409578\ttotal: 11.9ms\tremaining: 30.7ms\n",
      "14:\tlearn: 0.4404112\ttotal: 13.3ms\tremaining: 31ms\n",
      "15:\tlearn: 0.4398577\ttotal: 14ms\tremaining: 29.7ms\n",
      "16:\tlearn: 0.4394511\ttotal: 15ms\tremaining: 29.1ms\n",
      "17:\tlearn: 0.4389928\ttotal: 16.2ms\tremaining: 28.8ms\n",
      "18:\tlearn: 0.4388152\ttotal: 17ms\tremaining: 27.7ms\n",
      "19:\tlearn: 0.4386039\ttotal: 18.1ms\tremaining: 27.2ms\n",
      "20:\tlearn: 0.4382534\ttotal: 19.2ms\tremaining: 26.5ms\n",
      "21:\tlearn: 0.4381534\ttotal: 19.9ms\tremaining: 25.4ms\n",
      "22:\tlearn: 0.4379038\ttotal: 21ms\tremaining: 24.6ms\n",
      "23:\tlearn: 0.4375411\ttotal: 21.8ms\tremaining: 23.6ms\n",
      "24:\tlearn: 0.4373261\ttotal: 22.9ms\tremaining: 22.9ms\n",
      "25:\tlearn: 0.4372968\ttotal: 23.3ms\tremaining: 21.5ms\n",
      "26:\tlearn: 0.4372305\ttotal: 24ms\tremaining: 20.4ms\n",
      "27:\tlearn: 0.4371740\ttotal: 24.6ms\tremaining: 19.3ms\n",
      "28:\tlearn: 0.4370342\ttotal: 25.3ms\tremaining: 18.3ms\n",
      "29:\tlearn: 0.4370252\ttotal: 26ms\tremaining: 17.3ms\n",
      "30:\tlearn: 0.4366541\ttotal: 26.9ms\tremaining: 16.5ms\n",
      "31:\tlearn: 0.4365076\ttotal: 28ms\tremaining: 15.7ms\n",
      "32:\tlearn: 0.4363771\ttotal: 28.9ms\tremaining: 14.9ms\n",
      "33:\tlearn: 0.4363176\ttotal: 29.8ms\tremaining: 14ms\n",
      "34:\tlearn: 0.4361606\ttotal: 30.4ms\tremaining: 13ms\n",
      "35:\tlearn: 0.4360669\ttotal: 31.1ms\tremaining: 12.1ms\n",
      "36:\tlearn: 0.4360566\ttotal: 31.7ms\tremaining: 11.1ms\n",
      "37:\tlearn: 0.4360158\ttotal: 32.4ms\tremaining: 10.2ms\n",
      "38:\tlearn: 0.4360034\ttotal: 33.4ms\tremaining: 9.41ms\n",
      "39:\tlearn: 0.4358308\ttotal: 34.1ms\tremaining: 8.53ms\n",
      "40:\tlearn: 0.4357968\ttotal: 34.6ms\tremaining: 7.58ms\n",
      "41:\tlearn: 0.4356433\ttotal: 35.5ms\tremaining: 6.76ms\n",
      "42:\tlearn: 0.4356165\ttotal: 36ms\tremaining: 5.87ms\n",
      "43:\tlearn: 0.4355301\ttotal: 37.4ms\tremaining: 5.1ms\n",
      "44:\tlearn: 0.4354496\ttotal: 38.3ms\tremaining: 4.26ms\n",
      "45:\tlearn: 0.4354297\ttotal: 39.1ms\tremaining: 3.4ms\n",
      "46:\tlearn: 0.4354068\ttotal: 40.2ms\tremaining: 2.56ms\n",
      "47:\tlearn: 0.4353293\ttotal: 41.6ms\tremaining: 1.73ms\n",
      "48:\tlearn: 0.4353110\ttotal: 42.4ms\tremaining: 865us\n",
      "49:\tlearn: 0.4352321\ttotal: 42.9ms\tremaining: 0us\n"
     ]
    },
    {
     "name": "stderr",
     "output_type": "stream",
     "text": [
      "[Parallel(n_jobs=-1)]: Done  45 out of  45 | elapsed:    3.5s finished\n"
     ]
    },
    {
     "data": {
      "text/plain": [
       "GridSearchCV(cv=5, error_score='raise-deprecating',\n",
       "             estimator=<catboost.core.CatBoostRegressor object at 0x7fcac8de8588>,\n",
       "             iid='warn', n_jobs=-1,\n",
       "             param_grid={'iterations': [50, 100, 150],\n",
       "                         'learning_rate': [0.05, 0.1, 0.5]},\n",
       "             pre_dispatch='2*n_jobs', refit=True, return_train_score=False,\n",
       "             scoring=None, verbose=1)"
      ]
     },
     "execution_count": 39,
     "metadata": {},
     "output_type": "execute_result"
    }
   ],
   "source": [
    "model_params = {\n",
    "    'iterations':[50, 100, 150],\n",
    "    'learning_rate':[0.05, 0.1, 0.5],\n",
    "}\n",
    "\n",
    "model_gridsearch = GridSearchCV(CatBoostRegressor(), model_params, cv=5, verbose=1, n_jobs=-1)\n",
    "\n",
    "model_gridsearch.fit(Z_train_selectedd, y_train)"
   ]
  },
  {
   "cell_type": "code",
   "execution_count": 40,
   "metadata": {},
   "outputs": [
    {
     "data": {
      "text/plain": [
       "0.06578519759995281"
      ]
     },
     "execution_count": 40,
     "metadata": {},
     "output_type": "execute_result"
    }
   ],
   "source": [
    "model_gridsearch.best_score_"
   ]
  },
  {
   "cell_type": "code",
   "execution_count": 41,
   "metadata": {},
   "outputs": [
    {
     "data": {
      "text/plain": [
       "{'iterations': 50, 'learning_rate': 0.1}"
      ]
     },
     "execution_count": 41,
     "metadata": {},
     "output_type": "execute_result"
    }
   ],
   "source": [
    "model_gridsearch.best_params_"
   ]
  },
  {
   "cell_type": "markdown",
   "metadata": {},
   "source": [
    "## Pipe"
   ]
  },
  {
   "cell_type": "markdown",
   "metadata": {},
   "source": [
    "ok so what does new info need to go through.\n",
    "data comes in as us comapny and cocoa percent\n",
    "then we need to transofrm the cocoa percent to strip the % and convert to int, label binarize the us company bool?\n",
    "so mapper\n",
    "then put through model?\n",
    "final_model.predict\n",
    "make it two digit with round(x,2)\n",
    "get it out"
   ]
  },
  {
   "cell_type": "code",
   "execution_count": 42,
   "metadata": {},
   "outputs": [],
   "source": [
    "from sklearn.pipeline import make_pipeline"
   ]
  },
  {
   "cell_type": "code",
   "execution_count": 49,
   "metadata": {},
   "outputs": [
    {
     "data": {
      "text/plain": [
       "64"
      ]
     },
     "execution_count": 49,
     "metadata": {},
     "output_type": "execute_result"
    }
   ],
   "source": [
    "def percent_stripper_int(x):\n",
    "    return int(round(float(x.strip('%')),0))\n",
    "percent_stripper_int('63.76%')\n",
    "psi_func().fit_transform('63.76')"
   ]
  },
  {
   "cell_type": "code",
   "execution_count": 63,
   "metadata": {},
   "outputs": [
    {
     "name": "stdout",
     "output_type": "stream",
     "text": [
      "0:\tlearn: 0.4568883\ttotal: 7.03ms\tremaining: 344ms\n",
      "1:\tlearn: 0.4538670\ttotal: 8.43ms\tremaining: 202ms\n",
      "2:\tlearn: 0.4514697\ttotal: 9.41ms\tremaining: 147ms\n",
      "3:\tlearn: 0.4502982\ttotal: 10.2ms\tremaining: 117ms\n",
      "4:\tlearn: 0.4486119\ttotal: 12.2ms\tremaining: 110ms\n",
      "5:\tlearn: 0.4475272\ttotal: 13.1ms\tremaining: 96.4ms\n",
      "6:\tlearn: 0.4459566\ttotal: 15.7ms\tremaining: 96.6ms\n",
      "7:\tlearn: 0.4449371\ttotal: 17.2ms\tremaining: 90.1ms\n",
      "8:\tlearn: 0.4444661\ttotal: 19.1ms\tremaining: 87.2ms\n",
      "9:\tlearn: 0.4434322\ttotal: 20.1ms\tremaining: 80.5ms\n",
      "10:\tlearn: 0.4429935\ttotal: 21.2ms\tremaining: 75.1ms\n",
      "11:\tlearn: 0.4420970\ttotal: 22.4ms\tremaining: 71.1ms\n",
      "12:\tlearn: 0.4412331\ttotal: 23.4ms\tremaining: 66.7ms\n",
      "13:\tlearn: 0.4409578\ttotal: 24.5ms\tremaining: 63ms\n",
      "14:\tlearn: 0.4404112\ttotal: 26.6ms\tremaining: 62.1ms\n",
      "15:\tlearn: 0.4398577\ttotal: 27.4ms\tremaining: 58.1ms\n",
      "16:\tlearn: 0.4394511\ttotal: 27.9ms\tremaining: 54.2ms\n",
      "17:\tlearn: 0.4389928\ttotal: 28.5ms\tremaining: 50.6ms\n",
      "18:\tlearn: 0.4388152\ttotal: 28.8ms\tremaining: 47.1ms\n",
      "19:\tlearn: 0.4386039\ttotal: 29.3ms\tremaining: 43.9ms\n",
      "20:\tlearn: 0.4382534\ttotal: 30ms\tremaining: 41.4ms\n",
      "21:\tlearn: 0.4381534\ttotal: 34.8ms\tremaining: 44.3ms\n",
      "22:\tlearn: 0.4379038\ttotal: 36.7ms\tremaining: 43.1ms\n",
      "23:\tlearn: 0.4375411\ttotal: 39ms\tremaining: 42.3ms\n",
      "24:\tlearn: 0.4373261\ttotal: 40.4ms\tremaining: 40.4ms\n",
      "25:\tlearn: 0.4372968\ttotal: 41.5ms\tremaining: 38.3ms\n",
      "26:\tlearn: 0.4372305\ttotal: 43.1ms\tremaining: 36.8ms\n",
      "27:\tlearn: 0.4371740\ttotal: 44.4ms\tremaining: 34.9ms\n",
      "28:\tlearn: 0.4370342\ttotal: 45.9ms\tremaining: 33.2ms\n",
      "29:\tlearn: 0.4370252\ttotal: 47.1ms\tremaining: 31.4ms\n",
      "30:\tlearn: 0.4366541\ttotal: 49.7ms\tremaining: 30.4ms\n",
      "31:\tlearn: 0.4365076\ttotal: 51.2ms\tremaining: 28.8ms\n",
      "32:\tlearn: 0.4363771\ttotal: 52.8ms\tremaining: 27.2ms\n",
      "33:\tlearn: 0.4363176\ttotal: 54ms\tremaining: 25.4ms\n",
      "34:\tlearn: 0.4361606\ttotal: 55.2ms\tremaining: 23.7ms\n",
      "35:\tlearn: 0.4360669\ttotal: 56.2ms\tremaining: 21.9ms\n",
      "36:\tlearn: 0.4360566\ttotal: 57.6ms\tremaining: 20.2ms\n",
      "37:\tlearn: 0.4360158\ttotal: 58.9ms\tremaining: 18.6ms\n",
      "38:\tlearn: 0.4360034\ttotal: 59.8ms\tremaining: 16.9ms\n",
      "39:\tlearn: 0.4358308\ttotal: 61.4ms\tremaining: 15.3ms\n",
      "40:\tlearn: 0.4357968\ttotal: 62.1ms\tremaining: 13.6ms\n",
      "41:\tlearn: 0.4356433\ttotal: 63.7ms\tremaining: 12.1ms\n",
      "42:\tlearn: 0.4356165\ttotal: 65.3ms\tremaining: 10.6ms\n",
      "43:\tlearn: 0.4355301\ttotal: 66.7ms\tremaining: 9.1ms\n",
      "44:\tlearn: 0.4354496\ttotal: 68.7ms\tremaining: 7.63ms\n",
      "45:\tlearn: 0.4354297\ttotal: 69.6ms\tremaining: 6.05ms\n",
      "46:\tlearn: 0.4354068\ttotal: 70.7ms\tremaining: 4.51ms\n",
      "47:\tlearn: 0.4353293\ttotal: 72.1ms\tremaining: 3ms\n",
      "48:\tlearn: 0.4353110\ttotal: 72.8ms\tremaining: 1.49ms\n",
      "49:\tlearn: 0.4352321\ttotal: 73.8ms\tremaining: 0us\n"
     ]
    }
   ],
   "source": [
    "from sklearn.base import TransformerMixin\n",
    "from sklearn.preprocessing import LabelEncoder\n",
    "class psi_func(TransformerMixin):\n",
    "\n",
    "    def __init__(self):\n",
    "        pass\n",
    "\n",
    "    def fit(self, X, y= None):\n",
    "        pass\n",
    "\n",
    "    def transform(self, X, y= None):\n",
    "        return int(round(float(X),0))\n",
    "\n",
    "    def fit_transform(self, X, y= None):\n",
    "        self.fit(X)\n",
    "        return self.transform(X)\n",
    "\n",
    "\n",
    "final_mapper = DataFrameMapper([\n",
    "    ('Cocoa_Percent', psi_func()),\n",
    "    ('USA_Company', None)\n",
    "])\n",
    "\n",
    "\n",
    "final_model = CatBoostRegressor(iterations = 50, learning_rate= 0.1)\n",
    "final_model.fit(Z_train_selectedd, y_train)\n",
    "pipe = make_pipeline(final_model)"
   ]
  },
  {
   "cell_type": "code",
   "execution_count": 57,
   "metadata": {},
   "outputs": [
    {
     "data": {
      "text/html": [
       "<div>\n",
       "<style scoped>\n",
       "    .dataframe tbody tr th:only-of-type {\n",
       "        vertical-align: middle;\n",
       "    }\n",
       "\n",
       "    .dataframe tbody tr th {\n",
       "        vertical-align: top;\n",
       "    }\n",
       "\n",
       "    .dataframe thead th {\n",
       "        text-align: right;\n",
       "    }\n",
       "</style>\n",
       "<table border=\"1\" class=\"dataframe\">\n",
       "  <thead>\n",
       "    <tr style=\"text-align: right;\">\n",
       "      <th></th>\n",
       "      <th>Cocoa_Percent</th>\n",
       "      <th>Company_Location_U.S.A.</th>\n",
       "    </tr>\n",
       "  </thead>\n",
       "  <tbody>\n",
       "    <tr>\n",
       "      <th>0</th>\n",
       "      <td>65.4</td>\n",
       "      <td>1</td>\n",
       "    </tr>\n",
       "  </tbody>\n",
       "</table>\n",
       "</div>"
      ],
      "text/plain": [
       "  Cocoa_Percent  Company_Location_U.S.A.\n",
       "0          65.4                        1"
      ]
     },
     "execution_count": 57,
     "metadata": {},
     "output_type": "execute_result"
    }
   ],
   "source": [
    "pd.DataFrame({'Cocoa_Percent': '65.4',\n",
    "              'Company_Location_U.S.A.': 1}, index = [0])"
   ]
  },
  {
   "cell_type": "code",
   "execution_count": 64,
   "metadata": {},
   "outputs": [
    {
     "data": {
      "text/plain": [
       "array([3.1337])"
      ]
     },
     "execution_count": 64,
     "metadata": {},
     "output_type": "execute_result"
    }
   ],
   "source": [
    "pipe.predict(pd.DataFrame({'Cocoa_Percent': 65,\n",
    "                           'Company_Location_U.S.A.': 1}, index = [0]))"
   ]
  },
  {
   "cell_type": "code",
   "execution_count": 60,
   "metadata": {},
   "outputs": [],
   "source": [
    "final_model = CatBoostRegressor(iterations = 50, learning_rate= 0.1)"
   ]
  },
  {
   "cell_type": "code",
   "execution_count": null,
   "metadata": {},
   "outputs": [],
   "source": [
    "final_model.fit(Z_train_selectedd, y_train)"
   ]
  },
  {
   "cell_type": "code",
   "execution_count": null,
   "metadata": {},
   "outputs": [],
   "source": [
    "final_model.score(Z_test_selectedd, y_test)"
   ]
  },
  {
   "cell_type": "code",
   "execution_count": null,
   "metadata": {},
   "outputs": [],
   "source": [
    "two_digit_pred = [round(x,2) for x in final_model.predict(Z_test_selectedd).ravel()]"
   ]
  },
  {
   "cell_type": "code",
   "execution_count": 69,
   "metadata": {},
   "outputs": [
    {
     "data": {
      "text/html": [
       "<div>\n",
       "<style scoped>\n",
       "    .dataframe tbody tr th:only-of-type {\n",
       "        vertical-align: middle;\n",
       "    }\n",
       "\n",
       "    .dataframe tbody tr th {\n",
       "        vertical-align: top;\n",
       "    }\n",
       "\n",
       "    .dataframe thead th {\n",
       "        text-align: right;\n",
       "    }\n",
       "</style>\n",
       "<table border=\"1\" class=\"dataframe\">\n",
       "  <thead>\n",
       "    <tr style=\"text-align: right;\">\n",
       "      <th></th>\n",
       "      <th>Cocoa_Percent</th>\n",
       "      <th>Company_Location_U.S.A.</th>\n",
       "    </tr>\n",
       "  </thead>\n",
       "  <tbody>\n",
       "    <tr>\n",
       "      <th>969</th>\n",
       "      <td>65</td>\n",
       "      <td>1</td>\n",
       "    </tr>\n",
       "    <tr>\n",
       "      <th>905</th>\n",
       "      <td>72</td>\n",
       "      <td>1</td>\n",
       "    </tr>\n",
       "    <tr>\n",
       "      <th>441</th>\n",
       "      <td>80</td>\n",
       "      <td>0</td>\n",
       "    </tr>\n",
       "    <tr>\n",
       "      <th>104</th>\n",
       "      <td>70</td>\n",
       "      <td>1</td>\n",
       "    </tr>\n",
       "    <tr>\n",
       "      <th>691</th>\n",
       "      <td>69</td>\n",
       "      <td>1</td>\n",
       "    </tr>\n",
       "  </tbody>\n",
       "</table>\n",
       "</div>"
      ],
      "text/plain": [
       "     Cocoa_Percent  Company_Location_U.S.A.\n",
       "969             65                        1\n",
       "905             72                        1\n",
       "441             80                        0\n",
       "104             70                        1\n",
       "691             69                        1"
      ]
     },
     "execution_count": 69,
     "metadata": {},
     "output_type": "execute_result"
    }
   ],
   "source": [
    "Z_test_selectedd.head()"
   ]
  },
  {
   "cell_type": "markdown",
   "metadata": {},
   "source": [
    "## Alternate approach"
   ]
  },
  {
   "cell_type": "code",
   "execution_count": null,
   "metadata": {},
   "outputs": [],
   "source": [
    "# len(X_alt)"
   ]
  },
  {
   "cell_type": "code",
   "execution_count": null,
   "metadata": {},
   "outputs": [],
   "source": [
    "# alt_df = raw_df.copy()\n",
    "# alt_df = alt_df.dropna(subset = ['Bean\\nType','Broad Bean\\nOrigin'])\n",
    "# y_alt = alt_df['Rating']\n",
    "# X_alt = alt_df['Bean\\nType']"
   ]
  },
  {
   "cell_type": "code",
   "execution_count": null,
   "metadata": {},
   "outputs": [],
   "source": [
    "# linreg = LinearRegression()\n",
    "# lb = LabelBinarizer()"
   ]
  },
  {
   "cell_type": "code",
   "execution_count": null,
   "metadata": {},
   "outputs": [],
   "source": [
    "# X_train_alt, X_test_alt, y_train_alt, y_test_alt = train_test_split(X_alt, y_alt, test_size=0.3, random_state=42)"
   ]
  },
  {
   "cell_type": "code",
   "execution_count": null,
   "metadata": {},
   "outputs": [],
   "source": [
    "# Z_train_alt = lb.fit_transform(X_train_alt)\n",
    "# Z_test_alt = lb.transform(X_test_alt)\n",
    "\n",
    "\n",
    "# linreg.fit(Z_train_alt, y_train_alt)"
   ]
  },
  {
   "cell_type": "code",
   "execution_count": null,
   "metadata": {},
   "outputs": [],
   "source": [
    "# linreg.score(Z_test_alt, y_test_alt)"
   ]
  }
 ],
 "metadata": {
  "kernelspec": {
   "display_name": "Python 3",
   "language": "python",
   "name": "python3"
  },
  "language_info": {
   "codemirror_mode": {
    "name": "ipython",
    "version": 3
   },
   "file_extension": ".py",
   "mimetype": "text/x-python",
   "name": "python",
   "nbconvert_exporter": "python",
   "pygments_lexer": "ipython3",
   "version": "3.7.3"
  }
 },
 "nbformat": 4,
 "nbformat_minor": 2
}
